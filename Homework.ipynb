{
 "cells": [
  {
   "cell_type": "code",
   "execution_count": 117,
   "metadata": {
    "collapsed": true,
    "pycharm": {
     "is_executing": false,
     "name": "#%%\n"
    }
   },
   "outputs": [],
   "source": [
    "import csv\n",
    "import pandas as pd\n",
    "import numpy as np\n",
    "from sklearn.model_selection import train_test_split\n",
    "from sklearn.linear_model import LinearRegression\n",
    "from sklearn.metrics import mean_squared_error\n",
    "pd.plotting.register_matplotlib_converters()\n",
    "import matplotlib.pyplot as plt\n",
    "import seaborn as sns\n"
   ]
  },
  {
   "cell_type": "markdown",
   "source": [
    "# (a) "
   ],
   "metadata": {
    "collapsed": false
   }
  },
  {
   "cell_type": "code",
   "execution_count": 118,
   "outputs": [
    {
     "data": {
      "text/plain": "<matplotlib.axes._subplots.AxesSubplot at 0x13fc059e8>"
     },
     "metadata": {},
     "output_type": "execute_result",
     "execution_count": 118
    },
    {
     "data": {
      "text/plain": "<Figure size 432x288 with 1 Axes>",
      "image/png": "[encoded data removed]"
     },
     "metadata": {
      "needs_background": "light"
     },
     "output_type": "display_data"
    }
   ],
   "source": [
    "products_reviews = pd.read_csv('/Users/Lfear/PycharmProjects/ML_Assignment_110/amazon_reviews_us_Gift_Card_v1_00.tsv', sep='\\t')\n",
    "\n",
    "\n",
    "#print(products_reviews['star_rating'])\n",
    "#a = [2, 0, 0, 0, 0]\n",
    "# for i in products_reviews['star_rating']:\n",
    "#     a[i-1] = a[i-1] + 1\n",
    "#print(a)\n",
    "\n",
    "\n",
    "sns.distplot(a=products_reviews['star_rating'], kde=False)"
   ],
   "metadata": {
    "collapsed": false,
    "pycharm": {
     "name": "#%%\n",
     "is_executing": false
    }
   }
  },
  {
   "cell_type": "markdown",
   "source": [
    "# (b) "
   ],
   "metadata": {
    "collapsed": false
   }
  },
  {
   "cell_type": "code",
   "execution_count": 119,
   "outputs": [
    {
     "name": "stdout",
     "text": [
      "[5 5 5 1 5 5 5 5 1 5]\n",
      "[[  1 101]\n",
      " [  1   4]\n",
      " [  1   4]\n",
      " [  1  76]\n",
      " [  1  94]\n",
      " [  1   8]\n",
      " [  1  26]\n",
      " [  1  13]\n",
      " [  1  37]]\n",
      "4.845035348553754 [ 0.04985775 -0.00124546]\n"
     ],
     "output_type": "stream"
    }
   ],
   "source": [
    "#print(len(products_reviews['review_body'][0]))\n",
    "#print(products_reviews.loc[0:10, ['star_rating', 'verified_purchase', 'review_body']])\n",
    "\n",
    "\n",
    "Length_review = []\n",
    "for reviews in products_reviews['review_body']:\n",
    "    Length_review.append(len(str(reviews)))\n",
    "\n",
    "Verified_purchase = []\n",
    "for veri in products_reviews['verified_purchase']:\n",
    "    if veri == 'Y':\n",
    "        veri = 1\n",
    "    else:\n",
    "        veri = 0\n",
    "    Verified_purchase.append(veri)\n",
    "    \n",
    "Star_rating = []\n",
    "for rate in products_reviews['star_rating']:\n",
    "    Star_rating.append(rate)\n",
    "\n",
    "\n",
    "X1 = np.array(Verified_purchase)\n",
    "X2 = np.array(Length_review)\n",
    "\n",
    "X = np.vstack((X1, X2))\n",
    "X = X.transpose()\n",
    "\n",
    "y = np.array(Star_rating)\n",
    "y = y.transpose()\n",
    "\n",
    "print(y[0:10])\n",
    "print(X[1:10])\n",
    "\n",
    "reg = LinearRegression().fit(X, y)\n",
    "print(reg.intercept_, reg.coef_)\n",
    "\n",
    "# print(Verified_purchase[20:100])\n",
    "# print(Length_review[1:10])\n"
   ],
   "metadata": {
    "collapsed": false,
    "pycharm": {
     "name": "#%%\n",
     "is_executing": false
    }
   }
  },
  {
   "cell_type": "markdown",
   "source": [
    "So from the regression above, we've got $\\theta _0 =4.84503, \\theta_1 = 0.04985, \\theta_2 = -0.00125 $\n",
    "and we can conclude that the star rating has positive relation with the verified_peuchase and slight negative relation with length of review\n"
   ],
   "metadata": {
    "collapsed": false
   }
  },
  {
   "cell_type": "markdown",
   "source": [
    "# (c) "
   ],
   "metadata": {
    "collapsed": false,
    "pycharm": {
     "name": "#%% md\n"
    }
   }
  },
  {
   "cell_type": "code",
   "execution_count": 120,
   "outputs": [
    {
     "name": "stdout",
     "text": [
      "4.843296221717328 [ 0.04954969 -0.00123217]\n",
      "0.6515045472283107\n",
      "0.6450115244787632\n"
     ],
     "output_type": "stream"
    }
   ],
   "source": [
    "X_train,X_test,y_train,y_test = train_test_split(X,y,train_size=0.9)\n",
    "\n",
    "# print(X_train[1:10])\n",
    "# print(X_test[1:10])\n",
    "# print(y_train[1:10])\n",
    "# print(y_test[1:10])\n",
    "\n",
    "reg = LinearRegression().fit(X_train, y_train)\n",
    "print(reg.intercept_, reg.coef_)\n",
    "theta_0 = reg.intercept_\n",
    "theta_1 = reg.coef_[0]\n",
    "theta_2 = reg.coef_[1]\n",
    "#print(X_train[:,0])\n",
    "\n",
    "y_pred = theta_0 + theta_1*X_train[:, 0] + theta_2 * X_train[:, 1]\n",
    "\n",
    "y_test_pred = theta_0 + theta_1*X_test[:, 0] + theta_2 * X_test[:, 1]\n",
    "\n",
    "print(mean_squared_error(y_train, y_pred))\n",
    "print(mean_squared_error(y_test, y_test_pred))\n"
   ],
   "metadata": {
    "collapsed": false,
    "pycharm": {
     "name": "#%%\n",
     "is_executing": false
    }
   }
  },
  {
   "cell_type": "markdown",
   "source": [
    "As what we've senn above, We've split the data into 90% and 10% for train and test. And the MSE of train and test are $\\sigma_{train}^2 = 0.648711 $ and $ \\sigma_{test}^2 = 0.670139$"
   ],
   "metadata": {
    "collapsed": false
   }
  },
  {
   "cell_type": "markdown",
   "source": [
    "# (d)\n",
    "We assume a regression model as $y = \\theta_0 + \\theta_1 X_1 + \\theta_2X_2^2$\n"
   ],
   "metadata": {
    "collapsed": false
   }
  },
  {
   "cell_type": "code",
   "execution_count": 139,
   "outputs": [
    {
     "name": "stdout",
     "text": [
      "4.5845457045663585 [ 1.67199340e-01 -1.25402168e-07]\n",
      "0.6811391688262237\n",
      "0.6929237605299587\n"
     ],
     "output_type": "stream"
    }
   ],
   "source": [
    "X2 = np.array(X2)\n",
    "X2_2 = X2*X2\n",
    "#print(X2_2)\n",
    "\n",
    "X_new = np.vstack((X1, X2_2))\n",
    "X_new = X_new.transpose()\n",
    "\n",
    "\n",
    "X_train_2, X_test_2, y_train, y_test = train_test_split(X_new,y,train_size=0.9)\n",
    "#y_pred_2 = theta_0 + theta_1*X_train[:, 0] + theta_2 * X_train[:, 1]\n",
    "\n",
    "reg = LinearRegression().fit(X_train_2, y_train)\n",
    "print(reg.intercept_, reg.coef_)\n",
    "theta_0 = reg.intercept_\n",
    "theta_1 = reg.coef_[0]\n",
    "theta_2 = reg.coef_[1]\n",
    "\n",
    "y_pred_2 = theta_0 + theta_1*X_train_2[:, 0] + theta_2 * X_train_2[:, 1]\n",
    "\n",
    "y_test_pred_2 = theta_0 + theta_1*X_test_2[:, 0] + theta_2 * X_test_2[:, 1]\n",
    "\n",
    "print(mean_squared_error(y_train, y_pred_2))\n",
    "print(mean_squared_error(y_test, y_test_pred_2))"
   ],
   "metadata": {
    "collapsed": false,
    "pycharm": {
     "name": "#%%\n",
     "is_executing": false
    }
   }
  },
  {
   "cell_type": "markdown",
   "source": [
    "In the second order model, we got $\\theta _0 =4.591878, \\theta_1 = 1.586071\\times10^{-1}, \\theta_2 = -1.236320\\times10^{-7} $\n",
    "And the MSE of train and test are $\\sigma_{train}^2 = 0.681139 $ and $ \\sigma_{test}^2 = 0.692923$"
   ],
   "metadata": {
    "collapsed": false,
    "pycharm": {
     "name": "#%% md\n"
    }
   }
  }
 ],
 "metadata": {
  "kernelspec": {
   "display_name": "Python 3",
   "language": "python",
   "name": "python3"
  },
  "language_info": {
   "codemirror_mode": {
    "name": "ipython",
    "version": 2
   },
   "file_extension": ".py",
   "mimetype": "text/x-python",
   "name": "python",
   "nbconvert_exporter": "python",
   "pygments_lexer": "ipython2",
   "version": "2.7.6"
  },
  "pycharm": {
   "stem_cell": {
    "cell_type": "raw",
    "source": [],
    "metadata": {
     "collapsed": false
    }
   }
  }
 },
 "nbformat": 4,
 "nbformat_minor": 0
}